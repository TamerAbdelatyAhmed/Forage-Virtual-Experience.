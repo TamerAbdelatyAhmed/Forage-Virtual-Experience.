{
 "cells": [
  {
   "cell_type": "code",
   "execution_count": 2,
   "id": "59274221",
   "metadata": {},
   "outputs": [
    {
     "name": "stderr",
     "output_type": "stream",
     "text": [
      "[nltk_data] Downloading package punkt to\n",
      "[nltk_data]     C:\\Users\\tamer\\AppData\\Roaming\\nltk_data...\n",
      "[nltk_data]   Unzipping tokenizers\\punkt.zip.\n"
     ]
    }
   ],
   "source": [
    "# Data analysis and wrangling\n",
    "import pandas as pd\n",
    "import numpy as np\n",
    "\n",
    "# Data visualisation\n",
    "import seaborn as sns\n",
    "import matplotlib.pyplot as plt\n",
    "\n",
    "# Dates\n",
    "import datetime\n",
    "from matplotlib.dates import DateFormatter\n",
    "\n",
    "# Text analysis\n",
    "import nltk\n",
    "nltk.download('punkt')\n",
    "from nltk.tokenize import word_tokenize\n",
    "from nltk.probability import FreqDist \n",
    "import re\n",
    "\n",
    "# Statistical analysis\n",
    "from scipy.stats import ttest_ind\n",
    "\n",
    "# Remove warnings\n",
    "import warnings\n",
    "warnings.filterwarnings('ignore')"
   ]
  },
  {
   "cell_type": "code",
   "execution_count": 3,
   "id": "ff9cb747",
   "metadata": {},
   "outputs": [],
   "source": [
    "purchase_data = pd.read_csv(\"QVI_purchase_behaviour.csv\")\n",
    "transaction_data = pd.read_excel(\"QVI_transaction_data.xlsx\")"
   ]
  },
  {
   "cell_type": "code",
   "execution_count": 4,
   "id": "6b8f111c",
   "metadata": {},
   "outputs": [
    {
     "name": "stdout",
     "output_type": "stream",
     "text": [
      "<class 'pandas.core.frame.DataFrame'>\n",
      "RangeIndex: 264836 entries, 0 to 264835\n",
      "Data columns (total 8 columns):\n",
      " #   Column          Non-Null Count   Dtype  \n",
      "---  ------          --------------   -----  \n",
      " 0   DATE            264836 non-null  int64  \n",
      " 1   STORE_NBR       264836 non-null  int64  \n",
      " 2   LYLTY_CARD_NBR  264836 non-null  int64  \n",
      " 3   TXN_ID          264836 non-null  int64  \n",
      " 4   PROD_NBR        264836 non-null  int64  \n",
      " 5   PROD_NAME       264836 non-null  object \n",
      " 6   PROD_QTY        264836 non-null  int64  \n",
      " 7   TOT_SALES       264836 non-null  float64\n",
      "dtypes: float64(1), int64(6), object(1)\n",
      "memory usage: 16.2+ MB\n"
     ]
    },
    {
     "data": {
      "text/html": [
       "<div>\n",
       "<style scoped>\n",
       "    .dataframe tbody tr th:only-of-type {\n",
       "        vertical-align: middle;\n",
       "    }\n",
       "\n",
       "    .dataframe tbody tr th {\n",
       "        vertical-align: top;\n",
       "    }\n",
       "\n",
       "    .dataframe thead th {\n",
       "        text-align: right;\n",
       "    }\n",
       "</style>\n",
       "<table border=\"1\" class=\"dataframe\">\n",
       "  <thead>\n",
       "    <tr style=\"text-align: right;\">\n",
       "      <th></th>\n",
       "      <th>DATE</th>\n",
       "      <th>STORE_NBR</th>\n",
       "      <th>LYLTY_CARD_NBR</th>\n",
       "      <th>TXN_ID</th>\n",
       "      <th>PROD_NBR</th>\n",
       "      <th>PROD_NAME</th>\n",
       "      <th>PROD_QTY</th>\n",
       "      <th>TOT_SALES</th>\n",
       "    </tr>\n",
       "  </thead>\n",
       "  <tbody>\n",
       "    <tr>\n",
       "      <th>0</th>\n",
       "      <td>43390</td>\n",
       "      <td>1</td>\n",
       "      <td>1000</td>\n",
       "      <td>1</td>\n",
       "      <td>5</td>\n",
       "      <td>Natural Chip        Compny SeaSalt175g</td>\n",
       "      <td>2</td>\n",
       "      <td>6.0</td>\n",
       "    </tr>\n",
       "    <tr>\n",
       "      <th>1</th>\n",
       "      <td>43599</td>\n",
       "      <td>1</td>\n",
       "      <td>1307</td>\n",
       "      <td>348</td>\n",
       "      <td>66</td>\n",
       "      <td>CCs Nacho Cheese    175g</td>\n",
       "      <td>3</td>\n",
       "      <td>6.3</td>\n",
       "    </tr>\n",
       "    <tr>\n",
       "      <th>2</th>\n",
       "      <td>43605</td>\n",
       "      <td>1</td>\n",
       "      <td>1343</td>\n",
       "      <td>383</td>\n",
       "      <td>61</td>\n",
       "      <td>Smiths Crinkle Cut  Chips Chicken 170g</td>\n",
       "      <td>2</td>\n",
       "      <td>2.9</td>\n",
       "    </tr>\n",
       "    <tr>\n",
       "      <th>3</th>\n",
       "      <td>43329</td>\n",
       "      <td>2</td>\n",
       "      <td>2373</td>\n",
       "      <td>974</td>\n",
       "      <td>69</td>\n",
       "      <td>Smiths Chip Thinly  S/Cream&amp;Onion 175g</td>\n",
       "      <td>5</td>\n",
       "      <td>15.0</td>\n",
       "    </tr>\n",
       "    <tr>\n",
       "      <th>4</th>\n",
       "      <td>43330</td>\n",
       "      <td>2</td>\n",
       "      <td>2426</td>\n",
       "      <td>1038</td>\n",
       "      <td>108</td>\n",
       "      <td>Kettle Tortilla ChpsHny&amp;Jlpno Chili 150g</td>\n",
       "      <td>3</td>\n",
       "      <td>13.8</td>\n",
       "    </tr>\n",
       "  </tbody>\n",
       "</table>\n",
       "</div>"
      ],
      "text/plain": [
       "    DATE  STORE_NBR  LYLTY_CARD_NBR  TXN_ID  PROD_NBR  \\\n",
       "0  43390          1            1000       1         5   \n",
       "1  43599          1            1307     348        66   \n",
       "2  43605          1            1343     383        61   \n",
       "3  43329          2            2373     974        69   \n",
       "4  43330          2            2426    1038       108   \n",
       "\n",
       "                                  PROD_NAME  PROD_QTY  TOT_SALES  \n",
       "0    Natural Chip        Compny SeaSalt175g         2        6.0  \n",
       "1                  CCs Nacho Cheese    175g         3        6.3  \n",
       "2    Smiths Crinkle Cut  Chips Chicken 170g         2        2.9  \n",
       "3    Smiths Chip Thinly  S/Cream&Onion 175g         5       15.0  \n",
       "4  Kettle Tortilla ChpsHny&Jlpno Chili 150g         3       13.8  "
      ]
     },
     "execution_count": 4,
     "metadata": {},
     "output_type": "execute_result"
    }
   ],
   "source": [
    "transaction_data.info()\n",
    "transaction_data.head()"
   ]
  },
  {
   "cell_type": "code",
   "execution_count": 5,
   "id": "4b4cd296",
   "metadata": {},
   "outputs": [
    {
     "name": "stdout",
     "output_type": "stream",
     "text": [
      "<class 'pandas.core.frame.DataFrame'>\n",
      "RangeIndex: 72637 entries, 0 to 72636\n",
      "Data columns (total 3 columns):\n",
      " #   Column            Non-Null Count  Dtype \n",
      "---  ------            --------------  ----- \n",
      " 0   LYLTY_CARD_NBR    72637 non-null  int64 \n",
      " 1   LIFESTAGE         72637 non-null  object\n",
      " 2   PREMIUM_CUSTOMER  72637 non-null  object\n",
      "dtypes: int64(1), object(2)\n",
      "memory usage: 1.7+ MB\n"
     ]
    },
    {
     "data": {
      "text/html": [
       "<div>\n",
       "<style scoped>\n",
       "    .dataframe tbody tr th:only-of-type {\n",
       "        vertical-align: middle;\n",
       "    }\n",
       "\n",
       "    .dataframe tbody tr th {\n",
       "        vertical-align: top;\n",
       "    }\n",
       "\n",
       "    .dataframe thead th {\n",
       "        text-align: right;\n",
       "    }\n",
       "</style>\n",
       "<table border=\"1\" class=\"dataframe\">\n",
       "  <thead>\n",
       "    <tr style=\"text-align: right;\">\n",
       "      <th></th>\n",
       "      <th>LYLTY_CARD_NBR</th>\n",
       "      <th>LIFESTAGE</th>\n",
       "      <th>PREMIUM_CUSTOMER</th>\n",
       "    </tr>\n",
       "  </thead>\n",
       "  <tbody>\n",
       "    <tr>\n",
       "      <th>0</th>\n",
       "      <td>1000</td>\n",
       "      <td>YOUNG SINGLES/COUPLES</td>\n",
       "      <td>Premium</td>\n",
       "    </tr>\n",
       "    <tr>\n",
       "      <th>1</th>\n",
       "      <td>1002</td>\n",
       "      <td>YOUNG SINGLES/COUPLES</td>\n",
       "      <td>Mainstream</td>\n",
       "    </tr>\n",
       "    <tr>\n",
       "      <th>2</th>\n",
       "      <td>1003</td>\n",
       "      <td>YOUNG FAMILIES</td>\n",
       "      <td>Budget</td>\n",
       "    </tr>\n",
       "    <tr>\n",
       "      <th>3</th>\n",
       "      <td>1004</td>\n",
       "      <td>OLDER SINGLES/COUPLES</td>\n",
       "      <td>Mainstream</td>\n",
       "    </tr>\n",
       "    <tr>\n",
       "      <th>4</th>\n",
       "      <td>1005</td>\n",
       "      <td>MIDAGE SINGLES/COUPLES</td>\n",
       "      <td>Mainstream</td>\n",
       "    </tr>\n",
       "  </tbody>\n",
       "</table>\n",
       "</div>"
      ],
      "text/plain": [
       "   LYLTY_CARD_NBR               LIFESTAGE PREMIUM_CUSTOMER\n",
       "0            1000   YOUNG SINGLES/COUPLES          Premium\n",
       "1            1002   YOUNG SINGLES/COUPLES       Mainstream\n",
       "2            1003          YOUNG FAMILIES           Budget\n",
       "3            1004   OLDER SINGLES/COUPLES       Mainstream\n",
       "4            1005  MIDAGE SINGLES/COUPLES       Mainstream"
      ]
     },
     "execution_count": 5,
     "metadata": {},
     "output_type": "execute_result"
    }
   ],
   "source": [
    "purchase_data.info()\n",
    "purchase_data.head()"
   ]
  },
  {
   "cell_type": "code",
   "execution_count": 6,
   "id": "17eb391c",
   "metadata": {},
   "outputs": [
    {
     "data": {
      "text/plain": [
       "LYLTY_CARD_NBR      72637\n",
       "LIFESTAGE               7\n",
       "PREMIUM_CUSTOMER        3\n",
       "dtype: int64"
      ]
     },
     "execution_count": 6,
     "metadata": {},
     "output_type": "execute_result"
    }
   ],
   "source": [
    "purchase_data.nunique()"
   ]
  },
  {
   "cell_type": "code",
   "execution_count": 7,
   "id": "9cad7d4e",
   "metadata": {},
   "outputs": [
    {
     "data": {
      "text/plain": [
       "DATE                 364\n",
       "STORE_NBR            272\n",
       "LYLTY_CARD_NBR     72637\n",
       "TXN_ID            263127\n",
       "PROD_NBR             114\n",
       "PROD_NAME            114\n",
       "PROD_QTY               6\n",
       "TOT_SALES            112\n",
       "dtype: int64"
      ]
     },
     "execution_count": 7,
     "metadata": {},
     "output_type": "execute_result"
    }
   ],
   "source": [
    "transaction_data.nunique()"
   ]
  },
  {
   "cell_type": "code",
   "execution_count": 8,
   "id": "d48251c0",
   "metadata": {},
   "outputs": [
    {
     "data": {
      "text/plain": [
       "DATE              0\n",
       "STORE_NBR         0\n",
       "LYLTY_CARD_NBR    0\n",
       "TXN_ID            0\n",
       "PROD_NBR          0\n",
       "PROD_NAME         0\n",
       "PROD_QTY          0\n",
       "TOT_SALES         0\n",
       "dtype: int64"
      ]
     },
     "execution_count": 8,
     "metadata": {},
     "output_type": "execute_result"
    }
   ],
   "source": [
    "transaction_data.isnull().sum()"
   ]
  },
  {
   "cell_type": "code",
   "execution_count": 9,
   "id": "f233f74c",
   "metadata": {},
   "outputs": [
    {
     "data": {
      "text/plain": [
       "LYLTY_CARD_NBR      0\n",
       "LIFESTAGE           0\n",
       "PREMIUM_CUSTOMER    0\n",
       "dtype: int64"
      ]
     },
     "execution_count": 9,
     "metadata": {},
     "output_type": "execute_result"
    }
   ],
   "source": [
    "purchase_data.isnull().sum()"
   ]
  },
  {
   "cell_type": "code",
   "execution_count": 10,
   "id": "75765d94",
   "metadata": {},
   "outputs": [],
   "source": [
    "# Date is not in the right format\n",
    "# Function that converts Excel integer into yyyy-mm-dd format\n",
    "def date_to_datetime(date):\n",
    "    excel_anchor = datetime.datetime(1900, 1, 1)\n",
    "    if(date < 60):\n",
    "        delta_in_days = datetime.timedelta(days = (date - 1))\n",
    "    else:\n",
    "        delta_in_days = datetime.timedelta(days = (date - 2))\n",
    "    converted_date = excel_anchor + delta_in_days\n",
    "    return converted_date\n",
    "\n",
    "# Apply function to Date feature in transactionData dataset\n",
    "transaction_data['DATE'] = transaction_data['DATE'].apply(date_to_datetime)"
   ]
  },
  {
   "cell_type": "code",
   "execution_count": 11,
   "id": "0047a85f",
   "metadata": {},
   "outputs": [
    {
     "data": {
      "text/plain": [
       "0        2018-10-17\n",
       "1        2019-05-14\n",
       "2        2019-05-20\n",
       "3        2018-08-17\n",
       "4        2018-08-18\n",
       "            ...    \n",
       "264831   2019-03-09\n",
       "264832   2018-08-13\n",
       "264833   2018-11-06\n",
       "264834   2018-12-27\n",
       "264835   2018-09-22\n",
       "Name: DATE, Length: 264836, dtype: datetime64[ns]"
      ]
     },
     "execution_count": 11,
     "metadata": {},
     "output_type": "execute_result"
    }
   ],
   "source": [
    "transaction_data['DATE']"
   ]
  },
  {
   "cell_type": "code",
   "execution_count": 12,
   "id": "cac7272d",
   "metadata": {},
   "outputs": [
    {
     "data": {
      "text/html": [
       "<div>\n",
       "<style scoped>\n",
       "    .dataframe tbody tr th:only-of-type {\n",
       "        vertical-align: middle;\n",
       "    }\n",
       "\n",
       "    .dataframe tbody tr th {\n",
       "        vertical-align: top;\n",
       "    }\n",
       "\n",
       "    .dataframe thead th {\n",
       "        text-align: right;\n",
       "    }\n",
       "</style>\n",
       "<table border=\"1\" class=\"dataframe\">\n",
       "  <thead>\n",
       "    <tr style=\"text-align: right;\">\n",
       "      <th></th>\n",
       "      <th>DATE</th>\n",
       "      <th>STORE_NBR</th>\n",
       "      <th>LYLTY_CARD_NBR</th>\n",
       "      <th>TXN_ID</th>\n",
       "      <th>PROD_NBR</th>\n",
       "      <th>PROD_NAME</th>\n",
       "      <th>PROD_QTY</th>\n",
       "      <th>TOT_SALES</th>\n",
       "      <th>PACK_SIZE</th>\n",
       "    </tr>\n",
       "  </thead>\n",
       "  <tbody>\n",
       "    <tr>\n",
       "      <th>0</th>\n",
       "      <td>2018-10-17</td>\n",
       "      <td>1</td>\n",
       "      <td>1000</td>\n",
       "      <td>1</td>\n",
       "      <td>5</td>\n",
       "      <td>Natural Chip        Compny SeaSalt175g</td>\n",
       "      <td>2</td>\n",
       "      <td>6.0</td>\n",
       "      <td>175</td>\n",
       "    </tr>\n",
       "    <tr>\n",
       "      <th>1</th>\n",
       "      <td>2019-05-14</td>\n",
       "      <td>1</td>\n",
       "      <td>1307</td>\n",
       "      <td>348</td>\n",
       "      <td>66</td>\n",
       "      <td>CCs Nacho Cheese    175g</td>\n",
       "      <td>3</td>\n",
       "      <td>6.3</td>\n",
       "      <td>175</td>\n",
       "    </tr>\n",
       "    <tr>\n",
       "      <th>2</th>\n",
       "      <td>2019-05-20</td>\n",
       "      <td>1</td>\n",
       "      <td>1343</td>\n",
       "      <td>383</td>\n",
       "      <td>61</td>\n",
       "      <td>Smiths Crinkle Cut  Chips Chicken 170g</td>\n",
       "      <td>2</td>\n",
       "      <td>2.9</td>\n",
       "      <td>170</td>\n",
       "    </tr>\n",
       "    <tr>\n",
       "      <th>3</th>\n",
       "      <td>2018-08-17</td>\n",
       "      <td>2</td>\n",
       "      <td>2373</td>\n",
       "      <td>974</td>\n",
       "      <td>69</td>\n",
       "      <td>Smiths Chip Thinly  S/Cream&amp;Onion 175g</td>\n",
       "      <td>5</td>\n",
       "      <td>15.0</td>\n",
       "      <td>175</td>\n",
       "    </tr>\n",
       "    <tr>\n",
       "      <th>4</th>\n",
       "      <td>2018-08-18</td>\n",
       "      <td>2</td>\n",
       "      <td>2426</td>\n",
       "      <td>1038</td>\n",
       "      <td>108</td>\n",
       "      <td>Kettle Tortilla ChpsHny&amp;Jlpno Chili 150g</td>\n",
       "      <td>3</td>\n",
       "      <td>13.8</td>\n",
       "      <td>150</td>\n",
       "    </tr>\n",
       "  </tbody>\n",
       "</table>\n",
       "</div>"
      ],
      "text/plain": [
       "        DATE  STORE_NBR  LYLTY_CARD_NBR  TXN_ID  PROD_NBR  \\\n",
       "0 2018-10-17          1            1000       1         5   \n",
       "1 2019-05-14          1            1307     348        66   \n",
       "2 2019-05-20          1            1343     383        61   \n",
       "3 2018-08-17          2            2373     974        69   \n",
       "4 2018-08-18          2            2426    1038       108   \n",
       "\n",
       "                                  PROD_NAME  PROD_QTY  TOT_SALES  PACK_SIZE  \n",
       "0    Natural Chip        Compny SeaSalt175g         2        6.0        175  \n",
       "1                  CCs Nacho Cheese    175g         3        6.3        175  \n",
       "2    Smiths Crinkle Cut  Chips Chicken 170g         2        2.9        170  \n",
       "3    Smiths Chip Thinly  S/Cream&Onion 175g         5       15.0        175  \n",
       "4  Kettle Tortilla ChpsHny&Jlpno Chili 150g         3       13.8        150  "
      ]
     },
     "execution_count": 12,
     "metadata": {},
     "output_type": "execute_result"
    }
   ],
   "source": [
    "# Extract weights out of 'PROD_NAME'\n",
    "\n",
    "transaction_data['PACK_SIZE'] = transaction_data['PROD_NAME'].str.extract(\"(\\d+)\")\n",
    "transaction_data['PACK_SIZE'] = pd.to_numeric(transaction_data['PACK_SIZE'])\n",
    "transaction_data.head()"
   ]
  },
  {
   "cell_type": "code",
   "execution_count": 13,
   "id": "8456d5e8",
   "metadata": {},
   "outputs": [],
   "source": [
    "# Create text cleaning function for PROD_NAME feature\n",
    "def clean_text(text):\n",
    "    text = re.sub('[&/]', ' ', text) # remove special characters '&' and '/'\n",
    "    text = re.sub('\\d\\w*', ' ', text) # remove product weights\n",
    "    return text\n",
    "\n",
    "# Apply text cleaning function to PROD_NAME column\n",
    "transaction_data['PROD_NAME'] = transaction_data['PROD_NAME'].apply(clean_text)"
   ]
  },
  {
   "cell_type": "code",
   "execution_count": 14,
   "id": "36fa6737",
   "metadata": {},
   "outputs": [],
   "source": [
    "# Create one giant string and apply 'word_tokenize' to separate the words\n",
    "\n",
    "cleanProdName = transaction_data['PROD_NAME']\n",
    "string = ''.join(cleanProdName)\n",
    "prodWord = word_tokenize(string)"
   ]
  },
  {
   "cell_type": "code",
   "execution_count": 15,
   "id": "707778bc",
   "metadata": {},
   "outputs": [
    {
     "data": {
      "text/html": [
       "<div>\n",
       "<style scoped>\n",
       "    .dataframe tbody tr th:only-of-type {\n",
       "        vertical-align: middle;\n",
       "    }\n",
       "\n",
       "    .dataframe tbody tr th {\n",
       "        vertical-align: top;\n",
       "    }\n",
       "\n",
       "    .dataframe thead th {\n",
       "        text-align: right;\n",
       "    }\n",
       "</style>\n",
       "<table border=\"1\" class=\"dataframe\">\n",
       "  <thead>\n",
       "    <tr style=\"text-align: right;\">\n",
       "      <th></th>\n",
       "      <th>Word</th>\n",
       "      <th>Frequency</th>\n",
       "    </tr>\n",
       "  </thead>\n",
       "  <tbody>\n",
       "    <tr>\n",
       "      <th>10</th>\n",
       "      <td>Chips</td>\n",
       "      <td>49770</td>\n",
       "    </tr>\n",
       "    <tr>\n",
       "      <th>16</th>\n",
       "      <td>Kettle</td>\n",
       "      <td>40739</td>\n",
       "    </tr>\n",
       "    <tr>\n",
       "      <th>7</th>\n",
       "      <td>Smiths</td>\n",
       "      <td>28572</td>\n",
       "    </tr>\n",
       "    <tr>\n",
       "      <th>6</th>\n",
       "      <td>Cheese</td>\n",
       "      <td>27890</td>\n",
       "    </tr>\n",
       "    <tr>\n",
       "      <th>66</th>\n",
       "      <td>Pringles</td>\n",
       "      <td>24743</td>\n",
       "    </tr>\n",
       "  </tbody>\n",
       "</table>\n",
       "</div>"
      ],
      "text/plain": [
       "        Word  Frequency\n",
       "10     Chips      49770\n",
       "16    Kettle      40739\n",
       "7     Smiths      28572\n",
       "6     Cheese      27890\n",
       "66  Pringles      24743"
      ]
     },
     "execution_count": 15,
     "metadata": {},
     "output_type": "execute_result"
    }
   ],
   "source": [
    "# Apply 'fdist' function which computes the frequency of each token and put it into a dataframe\n",
    "\n",
    "wordFrequency = FreqDist(prodWord)\n",
    "freq_df = pd.DataFrame(list(wordFrequency.items()), \n",
    "                       columns = [\"Word\", \"Frequency\"]).sort_values(by = 'Frequency', \n",
    "                                                                    ascending = False)\n",
    "\n",
    "# Let's see the top 5 most frequent words\n",
    "freq_df.head()"
   ]
  },
  {
   "cell_type": "code",
   "execution_count": 16,
   "id": "292ae9b4",
   "metadata": {},
   "outputs": [
    {
     "data": {
      "text/html": [
       "<div>\n",
       "<style scoped>\n",
       "    .dataframe tbody tr th:only-of-type {\n",
       "        vertical-align: middle;\n",
       "    }\n",
       "\n",
       "    .dataframe tbody tr th {\n",
       "        vertical-align: top;\n",
       "    }\n",
       "\n",
       "    .dataframe thead th {\n",
       "        text-align: right;\n",
       "    }\n",
       "</style>\n",
       "<table border=\"1\" class=\"dataframe\">\n",
       "  <thead>\n",
       "    <tr style=\"text-align: right;\">\n",
       "      <th></th>\n",
       "      <th>DATE</th>\n",
       "      <th>STORE_NBR</th>\n",
       "      <th>LYLTY_CARD_NBR</th>\n",
       "      <th>TXN_ID</th>\n",
       "      <th>PROD_NBR</th>\n",
       "      <th>PROD_NAME</th>\n",
       "      <th>PROD_QTY</th>\n",
       "      <th>TOT_SALES</th>\n",
       "      <th>PACK_SIZE</th>\n",
       "    </tr>\n",
       "  </thead>\n",
       "  <tbody>\n",
       "    <tr>\n",
       "      <th>0</th>\n",
       "      <td>2018-10-17</td>\n",
       "      <td>1</td>\n",
       "      <td>1000</td>\n",
       "      <td>1</td>\n",
       "      <td>5</td>\n",
       "      <td>Natural Chip        Compny Seasalt</td>\n",
       "      <td>2</td>\n",
       "      <td>6.0</td>\n",
       "      <td>175</td>\n",
       "    </tr>\n",
       "    <tr>\n",
       "      <th>1</th>\n",
       "      <td>2019-05-14</td>\n",
       "      <td>1</td>\n",
       "      <td>1307</td>\n",
       "      <td>348</td>\n",
       "      <td>66</td>\n",
       "      <td>Ccs Nacho Cheese</td>\n",
       "      <td>3</td>\n",
       "      <td>6.3</td>\n",
       "      <td>175</td>\n",
       "    </tr>\n",
       "    <tr>\n",
       "      <th>2</th>\n",
       "      <td>2019-05-20</td>\n",
       "      <td>1</td>\n",
       "      <td>1343</td>\n",
       "      <td>383</td>\n",
       "      <td>61</td>\n",
       "      <td>Smiths Crinkle Cut  Chips Chicken</td>\n",
       "      <td>2</td>\n",
       "      <td>2.9</td>\n",
       "      <td>170</td>\n",
       "    </tr>\n",
       "    <tr>\n",
       "      <th>3</th>\n",
       "      <td>2018-08-17</td>\n",
       "      <td>2</td>\n",
       "      <td>2373</td>\n",
       "      <td>974</td>\n",
       "      <td>69</td>\n",
       "      <td>Smiths Chip Thinly  S Cream Onion</td>\n",
       "      <td>5</td>\n",
       "      <td>15.0</td>\n",
       "      <td>175</td>\n",
       "    </tr>\n",
       "    <tr>\n",
       "      <th>4</th>\n",
       "      <td>2018-08-18</td>\n",
       "      <td>2</td>\n",
       "      <td>2426</td>\n",
       "      <td>1038</td>\n",
       "      <td>108</td>\n",
       "      <td>Kettle Tortilla Chpshny Jlpno Chili</td>\n",
       "      <td>3</td>\n",
       "      <td>13.8</td>\n",
       "      <td>150</td>\n",
       "    </tr>\n",
       "  </tbody>\n",
       "</table>\n",
       "</div>"
      ],
      "text/plain": [
       "        DATE  STORE_NBR  LYLTY_CARD_NBR  TXN_ID  PROD_NBR  \\\n",
       "0 2018-10-17          1            1000       1         5   \n",
       "1 2019-05-14          1            1307     348        66   \n",
       "2 2019-05-20          1            1343     383        61   \n",
       "3 2018-08-17          2            2373     974        69   \n",
       "4 2018-08-18          2            2426    1038       108   \n",
       "\n",
       "                               PROD_NAME  PROD_QTY  TOT_SALES  PACK_SIZE  \n",
       "0    Natural Chip        Compny Seasalt          2        6.0        175  \n",
       "1                  Ccs Nacho Cheese              3        6.3        175  \n",
       "2    Smiths Crinkle Cut  Chips Chicken           2        2.9        170  \n",
       "3    Smiths Chip Thinly  S Cream Onion           5       15.0        175  \n",
       "4  Kettle Tortilla Chpshny Jlpno Chili           3       13.8        150  "
      ]
     },
     "execution_count": 16,
     "metadata": {},
     "output_type": "execute_result"
    }
   ],
   "source": [
    "# Drop rows with salsa word in PROD_NAME\n",
    "transaction_data['PROD_NAME'] =  transaction_data['PROD_NAME'].apply(lambda x: x.lower())\n",
    "transaction_data =  transaction_data[~ transaction_data['PROD_NAME'].str.contains(\"salsa\")]\n",
    "transaction_data['PROD_NAME'] =  transaction_data['PROD_NAME'].apply(lambda x: x.title())\n",
    "transaction_data.head()"
   ]
  },
  {
   "cell_type": "code",
   "execution_count": 17,
   "id": "72ee4b9d",
   "metadata": {},
   "outputs": [
    {
     "data": {
      "text/plain": [
       "2      220070\n",
       "1       25476\n",
       "5         415\n",
       "3         408\n",
       "4         371\n",
       "200         2\n",
       "Name: PROD_QTY, dtype: int64"
      ]
     },
     "execution_count": 17,
     "metadata": {},
     "output_type": "execute_result"
    }
   ],
   "source": [
    "# Value counts of PROD_QTY\n",
    "transaction_data['PROD_QTY'].value_counts()"
   ]
  },
  {
   "cell_type": "markdown",
   "id": "7dc691d0",
   "metadata": {},
   "source": [
    "We have two occurences of 200 in the dataset. This seems odd so let's explore further."
   ]
  },
  {
   "cell_type": "code",
   "execution_count": 18,
   "id": "e62d890c",
   "metadata": {},
   "outputs": [
    {
     "data": {
      "text/html": [
       "<div>\n",
       "<style scoped>\n",
       "    .dataframe tbody tr th:only-of-type {\n",
       "        vertical-align: middle;\n",
       "    }\n",
       "\n",
       "    .dataframe tbody tr th {\n",
       "        vertical-align: top;\n",
       "    }\n",
       "\n",
       "    .dataframe thead th {\n",
       "        text-align: right;\n",
       "    }\n",
       "</style>\n",
       "<table border=\"1\" class=\"dataframe\">\n",
       "  <thead>\n",
       "    <tr style=\"text-align: right;\">\n",
       "      <th></th>\n",
       "      <th>DATE</th>\n",
       "      <th>STORE_NBR</th>\n",
       "      <th>LYLTY_CARD_NBR</th>\n",
       "      <th>TXN_ID</th>\n",
       "      <th>PROD_NBR</th>\n",
       "      <th>PROD_NAME</th>\n",
       "      <th>PROD_QTY</th>\n",
       "      <th>TOT_SALES</th>\n",
       "      <th>PACK_SIZE</th>\n",
       "    </tr>\n",
       "  </thead>\n",
       "  <tbody>\n",
       "    <tr>\n",
       "      <th>69762</th>\n",
       "      <td>2018-08-19</td>\n",
       "      <td>226</td>\n",
       "      <td>226000</td>\n",
       "      <td>226201</td>\n",
       "      <td>4</td>\n",
       "      <td>Dorito Corn Chp     Supreme</td>\n",
       "      <td>200</td>\n",
       "      <td>650.0</td>\n",
       "      <td>380</td>\n",
       "    </tr>\n",
       "    <tr>\n",
       "      <th>69763</th>\n",
       "      <td>2019-05-20</td>\n",
       "      <td>226</td>\n",
       "      <td>226000</td>\n",
       "      <td>226210</td>\n",
       "      <td>4</td>\n",
       "      <td>Dorito Corn Chp     Supreme</td>\n",
       "      <td>200</td>\n",
       "      <td>650.0</td>\n",
       "      <td>380</td>\n",
       "    </tr>\n",
       "  </tbody>\n",
       "</table>\n",
       "</div>"
      ],
      "text/plain": [
       "            DATE  STORE_NBR  LYLTY_CARD_NBR  TXN_ID  PROD_NBR  \\\n",
       "69762 2018-08-19        226          226000  226201         4   \n",
       "69763 2019-05-20        226          226000  226210         4   \n",
       "\n",
       "                           PROD_NAME  PROD_QTY  TOT_SALES  PACK_SIZE  \n",
       "69762  Dorito Corn Chp     Supreme         200      650.0        380  \n",
       "69763  Dorito Corn Chp     Supreme         200      650.0        380  "
      ]
     },
     "execution_count": 18,
     "metadata": {},
     "output_type": "execute_result"
    }
   ],
   "source": [
    "transaction_data.loc[transaction_data['PROD_QTY'] == 200]"
   ]
  },
  {
   "cell_type": "markdown",
   "id": "495c1496",
   "metadata": {},
   "source": [
    "Both these transactions have been made by the same person at the same store. Let's see all the transactions this person has made by tracking his loyalty card number."
   ]
  },
  {
   "cell_type": "code",
   "execution_count": 19,
   "id": "d1c6f9ca",
   "metadata": {},
   "outputs": [
    {
     "data": {
      "text/html": [
       "<div>\n",
       "<style scoped>\n",
       "    .dataframe tbody tr th:only-of-type {\n",
       "        vertical-align: middle;\n",
       "    }\n",
       "\n",
       "    .dataframe tbody tr th {\n",
       "        vertical-align: top;\n",
       "    }\n",
       "\n",
       "    .dataframe thead th {\n",
       "        text-align: right;\n",
       "    }\n",
       "</style>\n",
       "<table border=\"1\" class=\"dataframe\">\n",
       "  <thead>\n",
       "    <tr style=\"text-align: right;\">\n",
       "      <th></th>\n",
       "      <th>DATE</th>\n",
       "      <th>STORE_NBR</th>\n",
       "      <th>LYLTY_CARD_NBR</th>\n",
       "      <th>TXN_ID</th>\n",
       "      <th>PROD_NBR</th>\n",
       "      <th>PROD_NAME</th>\n",
       "      <th>PROD_QTY</th>\n",
       "      <th>TOT_SALES</th>\n",
       "      <th>PACK_SIZE</th>\n",
       "    </tr>\n",
       "  </thead>\n",
       "  <tbody>\n",
       "    <tr>\n",
       "      <th>69762</th>\n",
       "      <td>2018-08-19</td>\n",
       "      <td>226</td>\n",
       "      <td>226000</td>\n",
       "      <td>226201</td>\n",
       "      <td>4</td>\n",
       "      <td>Dorito Corn Chp     Supreme</td>\n",
       "      <td>200</td>\n",
       "      <td>650.0</td>\n",
       "      <td>380</td>\n",
       "    </tr>\n",
       "    <tr>\n",
       "      <th>69763</th>\n",
       "      <td>2019-05-20</td>\n",
       "      <td>226</td>\n",
       "      <td>226000</td>\n",
       "      <td>226210</td>\n",
       "      <td>4</td>\n",
       "      <td>Dorito Corn Chp     Supreme</td>\n",
       "      <td>200</td>\n",
       "      <td>650.0</td>\n",
       "      <td>380</td>\n",
       "    </tr>\n",
       "  </tbody>\n",
       "</table>\n",
       "</div>"
      ],
      "text/plain": [
       "            DATE  STORE_NBR  LYLTY_CARD_NBR  TXN_ID  PROD_NBR  \\\n",
       "69762 2018-08-19        226          226000  226201         4   \n",
       "69763 2019-05-20        226          226000  226210         4   \n",
       "\n",
       "                           PROD_NAME  PROD_QTY  TOT_SALES  PACK_SIZE  \n",
       "69762  Dorito Corn Chp     Supreme         200      650.0        380  \n",
       "69763  Dorito Corn Chp     Supreme         200      650.0        380  "
      ]
     },
     "execution_count": 19,
     "metadata": {},
     "output_type": "execute_result"
    }
   ],
   "source": [
    "transaction_data.loc[transaction_data['LYLTY_CARD_NBR'] == 226000]"
   ]
  },
  {
   "cell_type": "markdown",
   "id": "42434929",
   "metadata": {},
   "source": [
    "This customer has only made two transactions over the entire year so unlikely to be a retail customer. He/she is most likely purchasing for commercial purposes so it is safe for us to drop these this customer from both 'transactionData' and 'customerData' dataset."
   ]
  },
  {
   "cell_type": "code",
   "execution_count": 20,
   "id": "7b9d985a",
   "metadata": {},
   "outputs": [],
   "source": [
    "transaction_data.drop(transaction_data.index[transaction_data['LYLTY_CARD_NBR'] == 226000], inplace = True)\n",
    "purchase_data.drop(purchase_data.index[purchase_data['LYLTY_CARD_NBR'] == 226000], inplace = True)"
   ]
  },
  {
   "cell_type": "code",
   "execution_count": 21,
   "id": "47b468e7",
   "metadata": {},
   "outputs": [
    {
     "data": {
      "text/html": [
       "<div>\n",
       "<style scoped>\n",
       "    .dataframe tbody tr th:only-of-type {\n",
       "        vertical-align: middle;\n",
       "    }\n",
       "\n",
       "    .dataframe tbody tr th {\n",
       "        vertical-align: top;\n",
       "    }\n",
       "\n",
       "    .dataframe thead th {\n",
       "        text-align: right;\n",
       "    }\n",
       "</style>\n",
       "<table border=\"1\" class=\"dataframe\">\n",
       "  <thead>\n",
       "    <tr style=\"text-align: right;\">\n",
       "      <th></th>\n",
       "      <th>DATE</th>\n",
       "      <th>STORE_NBR</th>\n",
       "      <th>LYLTY_CARD_NBR</th>\n",
       "      <th>TXN_ID</th>\n",
       "      <th>PROD_NBR</th>\n",
       "      <th>PROD_NAME</th>\n",
       "      <th>PROD_QTY</th>\n",
       "      <th>TOT_SALES</th>\n",
       "      <th>PACK_SIZE</th>\n",
       "    </tr>\n",
       "  </thead>\n",
       "  <tbody>\n",
       "  </tbody>\n",
       "</table>\n",
       "</div>"
      ],
      "text/plain": [
       "Empty DataFrame\n",
       "Columns: [DATE, STORE_NBR, LYLTY_CARD_NBR, TXN_ID, PROD_NBR, PROD_NAME, PROD_QTY, TOT_SALES, PACK_SIZE]\n",
       "Index: []"
      ]
     },
     "execution_count": 21,
     "metadata": {},
     "output_type": "execute_result"
    }
   ],
   "source": [
    "# Make sure it has been dropped \n",
    "transaction_data.loc[transaction_data['LYLTY_CARD_NBR'] == 226000]"
   ]
  },
  {
   "cell_type": "code",
   "execution_count": 22,
   "id": "3181b3e5",
   "metadata": {},
   "outputs": [
    {
     "data": {
      "text/plain": [
       "364"
      ]
     },
     "execution_count": 22,
     "metadata": {},
     "output_type": "execute_result"
    }
   ],
   "source": [
    "# Now let's examine the number of transactions over time to see if there are any obvious data\n",
    "# issues e.g. missing data\n",
    "transaction_data['DATE'].nunique()"
   ]
  },
  {
   "cell_type": "code",
   "execution_count": 23,
   "id": "830a3a56",
   "metadata": {},
   "outputs": [
    {
     "data": {
      "text/plain": [
       "DatetimeIndex(['2018-12-25'], dtype='datetime64[ns]', freq=None)"
      ]
     },
     "execution_count": 23,
     "metadata": {},
     "output_type": "execute_result"
    }
   ],
   "source": [
    "# Look for the missing date \n",
    "\n",
    "pd.date_range(start = '2018-07-01', end = '2019-06-30').difference(transaction_data['DATE'])"
   ]
  },
  {
   "cell_type": "markdown",
   "id": "0b3db5aa",
   "metadata": {},
   "source": [
    "We have a missing date on Christmas Day. This makes sense because most retail stores are closed that day."
   ]
  },
  {
   "cell_type": "code",
   "execution_count": 24,
   "id": "ea32a6d1",
   "metadata": {},
   "outputs": [
    {
     "data": {
      "text/html": [
       "<div>\n",
       "<style scoped>\n",
       "    .dataframe tbody tr th:only-of-type {\n",
       "        vertical-align: middle;\n",
       "    }\n",
       "\n",
       "    .dataframe tbody tr th {\n",
       "        vertical-align: top;\n",
       "    }\n",
       "\n",
       "    .dataframe thead th {\n",
       "        text-align: right;\n",
       "    }\n",
       "</style>\n",
       "<table border=\"1\" class=\"dataframe\">\n",
       "  <thead>\n",
       "    <tr style=\"text-align: right;\">\n",
       "      <th></th>\n",
       "      <th>TOT_SALES</th>\n",
       "    </tr>\n",
       "    <tr>\n",
       "      <th>DATE</th>\n",
       "      <th></th>\n",
       "    </tr>\n",
       "  </thead>\n",
       "  <tbody>\n",
       "    <tr>\n",
       "      <th>2018-07-01</th>\n",
       "      <td>4920.1</td>\n",
       "    </tr>\n",
       "    <tr>\n",
       "      <th>2018-07-02</th>\n",
       "      <td>4877.0</td>\n",
       "    </tr>\n",
       "    <tr>\n",
       "      <th>2018-07-03</th>\n",
       "      <td>4954.7</td>\n",
       "    </tr>\n",
       "    <tr>\n",
       "      <th>2018-07-04</th>\n",
       "      <td>4968.1</td>\n",
       "    </tr>\n",
       "    <tr>\n",
       "      <th>2018-07-05</th>\n",
       "      <td>4682.0</td>\n",
       "    </tr>\n",
       "  </tbody>\n",
       "</table>\n",
       "</div>"
      ],
      "text/plain": [
       "            TOT_SALES\n",
       "DATE                 \n",
       "2018-07-01     4920.1\n",
       "2018-07-02     4877.0\n",
       "2018-07-03     4954.7\n",
       "2018-07-04     4968.1\n",
       "2018-07-05     4682.0"
      ]
     },
     "execution_count": 24,
     "metadata": {},
     "output_type": "execute_result"
    }
   ],
   "source": [
    "# Create a new dataframe which contains the total sale for each date\n",
    "df1 = pd.pivot_table(transaction_data, values = 'TOT_SALES', index = 'DATE', aggfunc = 'sum')\n",
    "df1.head()"
   ]
  },
  {
   "cell_type": "code",
   "execution_count": 25,
   "id": "34222a04",
   "metadata": {},
   "outputs": [
    {
     "data": {
      "text/plain": [
       "365"
      ]
     },
     "execution_count": 25,
     "metadata": {},
     "output_type": "execute_result"
    }
   ],
   "source": [
    "df2 = pd.DataFrame(index = pd.date_range(start = '2018-07-01', end = '2019-06-30'))\n",
    "df2['TOT_SALES'] = 0\n",
    "len(df2)"
   ]
  },
  {
   "cell_type": "code",
   "execution_count": 26,
   "id": "9155f29d",
   "metadata": {},
   "outputs": [
    {
     "data": {
      "text/html": [
       "<div>\n",
       "<style scoped>\n",
       "    .dataframe tbody tr th:only-of-type {\n",
       "        vertical-align: middle;\n",
       "    }\n",
       "\n",
       "    .dataframe tbody tr th {\n",
       "        vertical-align: top;\n",
       "    }\n",
       "\n",
       "    .dataframe thead th {\n",
       "        text-align: right;\n",
       "    }\n",
       "</style>\n",
       "<table border=\"1\" class=\"dataframe\">\n",
       "  <thead>\n",
       "    <tr style=\"text-align: right;\">\n",
       "      <th></th>\n",
       "      <th>TOT_SALES</th>\n",
       "    </tr>\n",
       "  </thead>\n",
       "  <tbody>\n",
       "    <tr>\n",
       "      <th>2018-07-01</th>\n",
       "      <td>4920.1</td>\n",
       "    </tr>\n",
       "    <tr>\n",
       "      <th>2018-07-02</th>\n",
       "      <td>4877.0</td>\n",
       "    </tr>\n",
       "    <tr>\n",
       "      <th>2018-07-03</th>\n",
       "      <td>4954.7</td>\n",
       "    </tr>\n",
       "    <tr>\n",
       "      <th>2018-07-04</th>\n",
       "      <td>4968.1</td>\n",
       "    </tr>\n",
       "    <tr>\n",
       "      <th>2018-07-05</th>\n",
       "      <td>4682.0</td>\n",
       "    </tr>\n",
       "  </tbody>\n",
       "</table>\n",
       "</div>"
      ],
      "text/plain": [
       "            TOT_SALES\n",
       "2018-07-01     4920.1\n",
       "2018-07-02     4877.0\n",
       "2018-07-03     4954.7\n",
       "2018-07-04     4968.1\n",
       "2018-07-05     4682.0"
      ]
     },
     "execution_count": 26,
     "metadata": {},
     "output_type": "execute_result"
    }
   ],
   "source": [
    "df = df1 + df2\n",
    "df.fillna(0, inplace = True)\n",
    "df.head()"
   ]
  },
  {
   "cell_type": "code",
   "execution_count": 27,
   "id": "01f8654e",
   "metadata": {},
   "outputs": [
    {
     "data": {
      "text/html": [
       "<div>\n",
       "<style scoped>\n",
       "    .dataframe tbody tr th:only-of-type {\n",
       "        vertical-align: middle;\n",
       "    }\n",
       "\n",
       "    .dataframe tbody tr th {\n",
       "        vertical-align: top;\n",
       "    }\n",
       "\n",
       "    .dataframe thead th {\n",
       "        text-align: right;\n",
       "    }\n",
       "</style>\n",
       "<table border=\"1\" class=\"dataframe\">\n",
       "  <thead>\n",
       "    <tr style=\"text-align: right;\">\n",
       "      <th></th>\n",
       "      <th>Total Sales</th>\n",
       "    </tr>\n",
       "    <tr>\n",
       "      <th>Date</th>\n",
       "      <th></th>\n",
       "    </tr>\n",
       "  </thead>\n",
       "  <tbody>\n",
       "    <tr>\n",
       "      <th>2018-07-01</th>\n",
       "      <td>4920.1</td>\n",
       "    </tr>\n",
       "    <tr>\n",
       "      <th>2018-07-02</th>\n",
       "      <td>4877.0</td>\n",
       "    </tr>\n",
       "    <tr>\n",
       "      <th>2018-07-03</th>\n",
       "      <td>4954.7</td>\n",
       "    </tr>\n",
       "    <tr>\n",
       "      <th>2018-07-04</th>\n",
       "      <td>4968.1</td>\n",
       "    </tr>\n",
       "    <tr>\n",
       "      <th>2018-07-05</th>\n",
       "      <td>4682.0</td>\n",
       "    </tr>\n",
       "  </tbody>\n",
       "</table>\n",
       "</div>"
      ],
      "text/plain": [
       "            Total Sales\n",
       "Date                   \n",
       "2018-07-01       4920.1\n",
       "2018-07-02       4877.0\n",
       "2018-07-03       4954.7\n",
       "2018-07-04       4968.1\n",
       "2018-07-05       4682.0"
      ]
     },
     "execution_count": 27,
     "metadata": {},
     "output_type": "execute_result"
    }
   ],
   "source": [
    "df.index.name = 'Date'\n",
    "df.rename(columns = {'TOT_SALES': 'Total Sales'}, inplace = True)\n",
    "df.head() "
   ]
  },
  {
   "cell_type": "code",
   "execution_count": 28,
   "id": "eb1802d6",
   "metadata": {},
   "outputs": [
    {
     "data": {
      "image/png": "[encoded data removed]",
      "text/plain": [
       "<Figure size 1000x500 with 1 Axes>"
      ]
     },
     "metadata": {},
     "output_type": "display_data"
    }
   ],
   "source": [
    "timeline = df.index\n",
    "graph = df['Total Sales']\n",
    "\n",
    "fig, ax = plt.subplots(figsize = (10, 5))\n",
    "ax.plot(timeline, graph)\n",
    "\n",
    "date_form = DateFormatter(\"%Y-%m\")\n",
    "ax.xaxis.set_major_formatter(date_form)\n",
    "plt.title('Total Sales from July 2018 to June 2019')\n",
    "plt.xlabel('Time')\n",
    "plt.ylabel('Total Sales')\n",
    "\n",
    "plt.show()"
   ]
  },
  {
   "cell_type": "code",
   "execution_count": 29,
   "id": "0e563976",
   "metadata": {},
   "outputs": [
    {
     "data": {
      "text/html": [
       "<div>\n",
       "<style scoped>\n",
       "    .dataframe tbody tr th:only-of-type {\n",
       "        vertical-align: middle;\n",
       "    }\n",
       "\n",
       "    .dataframe tbody tr th {\n",
       "        vertical-align: top;\n",
       "    }\n",
       "\n",
       "    .dataframe thead th {\n",
       "        text-align: right;\n",
       "    }\n",
       "</style>\n",
       "<table border=\"1\" class=\"dataframe\">\n",
       "  <thead>\n",
       "    <tr style=\"text-align: right;\">\n",
       "      <th></th>\n",
       "      <th>Total Sales</th>\n",
       "    </tr>\n",
       "    <tr>\n",
       "      <th>Date</th>\n",
       "      <th></th>\n",
       "    </tr>\n",
       "  </thead>\n",
       "  <tbody>\n",
       "    <tr>\n",
       "      <th>2018-12-01</th>\n",
       "      <td>5000.9</td>\n",
       "    </tr>\n",
       "    <tr>\n",
       "      <th>2018-12-02</th>\n",
       "      <td>4781.1</td>\n",
       "    </tr>\n",
       "    <tr>\n",
       "      <th>2018-12-03</th>\n",
       "      <td>4927.0</td>\n",
       "    </tr>\n",
       "    <tr>\n",
       "      <th>2018-12-04</th>\n",
       "      <td>4869.4</td>\n",
       "    </tr>\n",
       "    <tr>\n",
       "      <th>2018-12-05</th>\n",
       "      <td>4900.5</td>\n",
       "    </tr>\n",
       "  </tbody>\n",
       "</table>\n",
       "</div>"
      ],
      "text/plain": [
       "            Total Sales\n",
       "Date                   \n",
       "2018-12-01       5000.9\n",
       "2018-12-02       4781.1\n",
       "2018-12-03       4927.0\n",
       "2018-12-04       4869.4\n",
       "2018-12-05       4900.5"
      ]
     },
     "execution_count": 29,
     "metadata": {},
     "output_type": "execute_result"
    }
   ],
   "source": [
    "# Let's look at the December month only\n",
    "\n",
    "df_december = df[(df.index < \"2019-01-01\") & (df.index > \"2018-11-30\")]\n",
    "df_december.head()"
   ]
  },
  {
   "cell_type": "code",
   "execution_count": 30,
   "id": "b45c1fcd",
   "metadata": {},
   "outputs": [
    {
     "data": {
      "image/png": "[encoded data removed]",
      "text/plain": [
       "<Figure size 1500x500 with 1 Axes>"
      ]
     },
     "metadata": {},
     "output_type": "display_data"
    }
   ],
   "source": [
    "plt.figure(figsize = (15, 5))\n",
    "plt.plot(df_december)\n",
    "plt.xlabel('Date')\n",
    "plt.ylabel('Total Sales')\n",
    "plt.title('Total Sales in December');"
   ]
  },
  {
   "cell_type": "code",
   "execution_count": 31,
   "id": "a495a186",
   "metadata": {},
   "outputs": [
    {
     "data": {
      "text/html": [
       "<div>\n",
       "<style scoped>\n",
       "    .dataframe tbody tr th:only-of-type {\n",
       "        vertical-align: middle;\n",
       "    }\n",
       "\n",
       "    .dataframe tbody tr th {\n",
       "        vertical-align: top;\n",
       "    }\n",
       "\n",
       "    .dataframe thead th {\n",
       "        text-align: right;\n",
       "    }\n",
       "</style>\n",
       "<table border=\"1\" class=\"dataframe\">\n",
       "  <thead>\n",
       "    <tr style=\"text-align: right;\">\n",
       "      <th></th>\n",
       "      <th>Total Sales</th>\n",
       "      <th>Date</th>\n",
       "    </tr>\n",
       "  </thead>\n",
       "  <tbody>\n",
       "    <tr>\n",
       "      <th>0</th>\n",
       "      <td>5000.9</td>\n",
       "      <td>1</td>\n",
       "    </tr>\n",
       "    <tr>\n",
       "      <th>1</th>\n",
       "      <td>4781.1</td>\n",
       "      <td>2</td>\n",
       "    </tr>\n",
       "    <tr>\n",
       "      <th>2</th>\n",
       "      <td>4927.0</td>\n",
       "      <td>3</td>\n",
       "    </tr>\n",
       "    <tr>\n",
       "      <th>3</th>\n",
       "      <td>4869.4</td>\n",
       "      <td>4</td>\n",
       "    </tr>\n",
       "    <tr>\n",
       "      <th>4</th>\n",
       "      <td>4900.5</td>\n",
       "      <td>5</td>\n",
       "    </tr>\n",
       "  </tbody>\n",
       "</table>\n",
       "</div>"
      ],
      "text/plain": [
       "   Total Sales  Date\n",
       "0       5000.9     1\n",
       "1       4781.1     2\n",
       "2       4927.0     3\n",
       "3       4869.4     4\n",
       "4       4900.5     5"
      ]
     },
     "execution_count": 31,
     "metadata": {},
     "output_type": "execute_result"
    }
   ],
   "source": [
    "# Reset index\n",
    "df_december.reset_index(drop = True, inplace = True)\n",
    "\n",
    "# Relabel Date\n",
    "df_december['Date'] = df_december.index + 1\n",
    "df_december.head()"
   ]
  },
  {
   "cell_type": "code",
   "execution_count": 32,
   "id": "ddd5ce91",
   "metadata": {},
   "outputs": [
    {
     "data": {
      "image/png": "[encoded data removed]",
      "text/plain": [
       "<Figure size 1500x500 with 1 Axes>"
      ]
     },
     "metadata": {},
     "output_type": "display_data"
    }
   ],
   "source": [
    "plt.figure(figsize = (15,5))\n",
    "sns.barplot(x = 'Date', y ='Total Sales', data = df_december);"
   ]
  },
  {
   "cell_type": "code",
   "execution_count": 33,
   "id": "8f0977ac",
   "metadata": {},
   "outputs": [
    {
     "data": {
      "text/plain": [
       "array([175, 170, 150, 330, 210, 270, 220, 125, 110, 134, 380, 180, 165,\n",
       "       135, 250, 200, 160, 190,  90,  70], dtype=int64)"
      ]
     },
     "execution_count": 33,
     "metadata": {},
     "output_type": "execute_result"
    }
   ],
   "source": [
    "transaction_data['PACK_SIZE'].unique()"
   ]
  },
  {
   "cell_type": "code",
   "execution_count": 34,
   "id": "38561a49",
   "metadata": {},
   "outputs": [
    {
     "data": {
      "image/png": "[encoded data removed]",
      "text/plain": [
       "<Figure size 1000x500 with 1 Axes>"
      ]
     },
     "metadata": {},
     "output_type": "display_data"
    }
   ],
   "source": [
    "# Check the distribution of PACK_SIZE\n",
    "plt.figure(figsize = (10, 5))\n",
    "plt.hist(transaction_data['PACK_SIZE'])     \n",
    "plt.xlabel('Pack Size')\n",
    "plt.ylabel('Frequency')\n",
    "plt.title('Pack Size Histogram');"
   ]
  },
  {
   "cell_type": "code",
   "execution_count": 35,
   "id": "091aa5e7",
   "metadata": {},
   "outputs": [
    {
     "data": {
      "text/html": [
       "<div>\n",
       "<style scoped>\n",
       "    .dataframe tbody tr th:only-of-type {\n",
       "        vertical-align: middle;\n",
       "    }\n",
       "\n",
       "    .dataframe tbody tr th {\n",
       "        vertical-align: top;\n",
       "    }\n",
       "\n",
       "    .dataframe thead th {\n",
       "        text-align: right;\n",
       "    }\n",
       "</style>\n",
       "<table border=\"1\" class=\"dataframe\">\n",
       "  <thead>\n",
       "    <tr style=\"text-align: right;\">\n",
       "      <th></th>\n",
       "      <th>DATE</th>\n",
       "      <th>STORE_NBR</th>\n",
       "      <th>LYLTY_CARD_NBR</th>\n",
       "      <th>TXN_ID</th>\n",
       "      <th>PROD_NBR</th>\n",
       "      <th>PROD_NAME</th>\n",
       "      <th>PROD_QTY</th>\n",
       "      <th>TOT_SALES</th>\n",
       "      <th>PACK_SIZE</th>\n",
       "      <th>BRAND</th>\n",
       "    </tr>\n",
       "  </thead>\n",
       "  <tbody>\n",
       "    <tr>\n",
       "      <th>0</th>\n",
       "      <td>2018-10-17</td>\n",
       "      <td>1</td>\n",
       "      <td>1000</td>\n",
       "      <td>1</td>\n",
       "      <td>5</td>\n",
       "      <td>Natural Chip        Compny Seasalt</td>\n",
       "      <td>2</td>\n",
       "      <td>6.0</td>\n",
       "      <td>175</td>\n",
       "      <td>Natural</td>\n",
       "    </tr>\n",
       "    <tr>\n",
       "      <th>1</th>\n",
       "      <td>2019-05-14</td>\n",
       "      <td>1</td>\n",
       "      <td>1307</td>\n",
       "      <td>348</td>\n",
       "      <td>66</td>\n",
       "      <td>Ccs Nacho Cheese</td>\n",
       "      <td>3</td>\n",
       "      <td>6.3</td>\n",
       "      <td>175</td>\n",
       "      <td>Ccs</td>\n",
       "    </tr>\n",
       "    <tr>\n",
       "      <th>2</th>\n",
       "      <td>2019-05-20</td>\n",
       "      <td>1</td>\n",
       "      <td>1343</td>\n",
       "      <td>383</td>\n",
       "      <td>61</td>\n",
       "      <td>Smiths Crinkle Cut  Chips Chicken</td>\n",
       "      <td>2</td>\n",
       "      <td>2.9</td>\n",
       "      <td>170</td>\n",
       "      <td>Smiths</td>\n",
       "    </tr>\n",
       "    <tr>\n",
       "      <th>3</th>\n",
       "      <td>2018-08-17</td>\n",
       "      <td>2</td>\n",
       "      <td>2373</td>\n",
       "      <td>974</td>\n",
       "      <td>69</td>\n",
       "      <td>Smiths Chip Thinly  S Cream Onion</td>\n",
       "      <td>5</td>\n",
       "      <td>15.0</td>\n",
       "      <td>175</td>\n",
       "      <td>Smiths</td>\n",
       "    </tr>\n",
       "    <tr>\n",
       "      <th>4</th>\n",
       "      <td>2018-08-18</td>\n",
       "      <td>2</td>\n",
       "      <td>2426</td>\n",
       "      <td>1038</td>\n",
       "      <td>108</td>\n",
       "      <td>Kettle Tortilla Chpshny Jlpno Chili</td>\n",
       "      <td>3</td>\n",
       "      <td>13.8</td>\n",
       "      <td>150</td>\n",
       "      <td>Kettle</td>\n",
       "    </tr>\n",
       "  </tbody>\n",
       "</table>\n",
       "</div>"
      ],
      "text/plain": [
       "        DATE  STORE_NBR  LYLTY_CARD_NBR  TXN_ID  PROD_NBR  \\\n",
       "0 2018-10-17          1            1000       1         5   \n",
       "1 2019-05-14          1            1307     348        66   \n",
       "2 2019-05-20          1            1343     383        61   \n",
       "3 2018-08-17          2            2373     974        69   \n",
       "4 2018-08-18          2            2426    1038       108   \n",
       "\n",
       "                               PROD_NAME  PROD_QTY  TOT_SALES  PACK_SIZE  \\\n",
       "0    Natural Chip        Compny Seasalt          2        6.0        175   \n",
       "1                  Ccs Nacho Cheese              3        6.3        175   \n",
       "2    Smiths Crinkle Cut  Chips Chicken           2        2.9        170   \n",
       "3    Smiths Chip Thinly  S Cream Onion           5       15.0        175   \n",
       "4  Kettle Tortilla Chpshny Jlpno Chili           3       13.8        150   \n",
       "\n",
       "     BRAND  \n",
       "0  Natural  \n",
       "1      Ccs  \n",
       "2   Smiths  \n",
       "3   Smiths  \n",
       "4   Kettle  "
      ]
     },
     "execution_count": 35,
     "metadata": {},
     "output_type": "execute_result"
    }
   ],
   "source": [
    "# Extract brand name from PROD_NAME and create new column called BRAND\n",
    "\n",
    "brand = transaction_data['PROD_NAME'].str.partition()\n",
    "transaction_data['BRAND'] = brand[0]\n",
    "transaction_data.head()"
   ]
  },
  {
   "cell_type": "code",
   "execution_count": 36,
   "id": "115dd0f8",
   "metadata": {},
   "outputs": [
    {
     "data": {
      "text/plain": [
       "array(['Natural', 'Ccs', 'Smiths', 'Kettle', 'Grain', 'Doritos',\n",
       "       'Twisties', 'Ww', 'Thins', 'Burger', 'Ncc', 'Cheezels', 'Infzns',\n",
       "       'Red', 'Pringles', 'Dorito', 'Infuzions', 'Smith', 'Grnwves',\n",
       "       'Tyrrells', 'Cobs', 'French', 'Rrd', 'Tostitos', 'Cheetos',\n",
       "       'Woolworths', 'Snbts', 'Sunbites'], dtype=object)"
      ]
     },
     "execution_count": 36,
     "metadata": {},
     "output_type": "execute_result"
    }
   ],
   "source": [
    "transaction_data['BRAND'].unique()"
   ]
  },
  {
   "cell_type": "code",
   "execution_count": 37,
   "id": "923e8401",
   "metadata": {},
   "outputs": [
    {
     "data": {
      "text/plain": [
       "array(['Natural', 'CCS', 'Smiths', 'Kettle', 'Grainwaves', 'Doritos',\n",
       "       'Twisties', 'Woolworths', 'Thins', 'Burger', 'Cheezels',\n",
       "       'Infuzions', 'Red Rock Deli', 'Pringles', 'Tyrrells', 'Cobs',\n",
       "       'French', 'Tostitos', 'Cheetos', 'Sunbites'], dtype=object)"
      ]
     },
     "execution_count": 37,
     "metadata": {},
     "output_type": "execute_result"
    }
   ],
   "source": [
    "# Rename brand names for consistency\n",
    "\n",
    "transaction_data['BRAND'].replace('Ncc', 'Natural', inplace = True)\n",
    "transaction_data['BRAND'].replace('Ccs', 'CCS', inplace = True)\n",
    "transaction_data['BRAND'].replace('Smith', 'Smiths', inplace = True)\n",
    "transaction_data['BRAND'].replace(['Grain', 'Grnwves'], 'Grainwaves', inplace = True)\n",
    "transaction_data['BRAND'].replace('Dorito', 'Doritos', inplace = True)\n",
    "transaction_data['BRAND'].replace('Ww', 'Woolworths', inplace = True)\n",
    "transaction_data['BRAND'].replace('Infzns', 'Infuzions', inplace = True)\n",
    "transaction_data['BRAND'].replace(['Red', 'Rrd'], 'Red Rock Deli', inplace = True)\n",
    "transaction_data['BRAND'].replace('Snbts', 'Sunbites', inplace = True)\n",
    "\n",
    "transaction_data['BRAND'].unique()"
   ]
  },
  {
   "cell_type": "code",
   "execution_count": 38,
   "id": "0bf2d6af",
   "metadata": {},
   "outputs": [
    {
     "data": {
      "text/plain": [
       "BRAND\n",
       "Kettle           390239.8\n",
       "Doritos          226329.9\n",
       "Smiths           217492.0\n",
       "Pringles         177655.5\n",
       "Infuzions         99047.6\n",
       "Thins             88852.5\n",
       "Red Rock Deli     87607.5\n",
       "Twisties          81522.1\n",
       "Tostitos          79789.6\n",
       "Cobs              70569.8\n",
       "Tyrrells          51647.4\n",
       "Grainwaves        51617.2\n",
       "Natural           42318.0\n",
       "Woolworths        41059.1\n",
       "Cheezels          40029.9\n",
       "CCS               18078.9\n",
       "Cheetos           16884.5\n",
       "Sunbites           9676.4\n",
       "French             7929.0\n",
       "Burger             6831.0\n",
       "Name: TOT_SALES, dtype: float64"
      ]
     },
     "execution_count": 38,
     "metadata": {},
     "output_type": "execute_result"
    }
   ],
   "source": [
    "# Which brand had the most sales?\n",
    "transaction_data.groupby('BRAND').TOT_SALES.sum().sort_values(ascending = False)"
   ]
  },
  {
   "cell_type": "code",
   "execution_count": 39,
   "id": "45f1f9bc",
   "metadata": {},
   "outputs": [
    {
     "data": {
      "text/plain": [
       "72636"
      ]
     },
     "execution_count": 39,
     "metadata": {},
     "output_type": "execute_result"
    }
   ],
   "source": [
    "len(purchase_data)"
   ]
  },
  {
   "cell_type": "code",
   "execution_count": 40,
   "id": "7cdcef6e",
   "metadata": {},
   "outputs": [
    {
     "data": {
      "text/plain": [
       "72636"
      ]
     },
     "execution_count": 40,
     "metadata": {},
     "output_type": "execute_result"
    }
   ],
   "source": [
    "purchase_data['LYLTY_CARD_NBR'].nunique()"
   ]
  },
  {
   "cell_type": "code",
   "execution_count": 41,
   "id": "6d644bde",
   "metadata": {},
   "outputs": [
    {
     "data": {
      "text/plain": [
       "7"
      ]
     },
     "execution_count": 41,
     "metadata": {},
     "output_type": "execute_result"
    }
   ],
   "source": [
    "purchase_data['LIFESTAGE'].nunique()"
   ]
  },
  {
   "cell_type": "code",
   "execution_count": 42,
   "id": "216d3d64",
   "metadata": {},
   "outputs": [
    {
     "data": {
      "text/plain": [
       "array(['YOUNG SINGLES/COUPLES', 'YOUNG FAMILIES', 'OLDER SINGLES/COUPLES',\n",
       "       'MIDAGE SINGLES/COUPLES', 'NEW FAMILIES', 'OLDER FAMILIES',\n",
       "       'RETIREES'], dtype=object)"
      ]
     },
     "execution_count": 42,
     "metadata": {},
     "output_type": "execute_result"
    }
   ],
   "source": [
    "purchase_data['LIFESTAGE'].unique()"
   ]
  },
  {
   "cell_type": "code",
   "execution_count": 43,
   "id": "6c8555ac",
   "metadata": {},
   "outputs": [
    {
     "data": {
      "text/plain": [
       "RETIREES                  14805\n",
       "OLDER SINGLES/COUPLES     14609\n",
       "YOUNG SINGLES/COUPLES     14441\n",
       "OLDER FAMILIES             9779\n",
       "YOUNG FAMILIES             9178\n",
       "MIDAGE SINGLES/COUPLES     7275\n",
       "NEW FAMILIES               2549\n",
       "Name: LIFESTAGE, dtype: int64"
      ]
     },
     "execution_count": 43,
     "metadata": {},
     "output_type": "execute_result"
    }
   ],
   "source": [
    "# Check value counts for lifestages\n",
    "purchase_data['LIFESTAGE'].value_counts().sort_values(ascending = False)"
   ]
  },
  {
   "cell_type": "code",
   "execution_count": 44,
   "id": "f7db397d",
   "metadata": {},
   "outputs": [
    {
     "data": {
      "image/png": "[encoded data removed]",
      "text/plain": [
       "<Figure size 640x480 with 1 Axes>"
      ]
     },
     "metadata": {},
     "output_type": "display_data"
    }
   ],
   "source": [
    "# Ploting the value counts for lifestages:\n",
    "sns.countplot(y = purchase_data['LIFESTAGE'], order = purchase_data['LIFESTAGE'].value_counts().index);"
   ]
  },
  {
   "cell_type": "code",
   "execution_count": 45,
   "id": "103d101b",
   "metadata": {},
   "outputs": [
    {
     "data": {
      "text/plain": [
       "3"
      ]
     },
     "execution_count": 45,
     "metadata": {},
     "output_type": "execute_result"
    }
   ],
   "source": [
    "# Check the unique premium customer categories?\n",
    "purchase_data['PREMIUM_CUSTOMER'].nunique()"
   ]
  },
  {
   "cell_type": "code",
   "execution_count": 46,
   "id": "03d694a8",
   "metadata": {},
   "outputs": [
    {
     "data": {
      "text/plain": [
       "Mainstream    29245\n",
       "Budget        24470\n",
       "Premium       18921\n",
       "Name: PREMIUM_CUSTOMER, dtype: int64"
      ]
     },
     "execution_count": 46,
     "metadata": {},
     "output_type": "execute_result"
    }
   ],
   "source": [
    "# Check value counts for each premium customer category:\n",
    "purchase_data['PREMIUM_CUSTOMER'].value_counts().sort_values(ascending = False)"
   ]
  },
  {
   "cell_type": "code",
   "execution_count": 47,
   "id": "0aa06277",
   "metadata": {},
   "outputs": [
    {
     "data": {
      "image/png": "[encoded data removed]",
      "text/plain": [
       "<Figure size 1200x700 with 1 Axes>"
      ]
     },
     "metadata": {},
     "output_type": "display_data"
    }
   ],
   "source": [
    "# Ploting the value counts for PREMIUM_CUSTOMER:\n",
    "plt.figure(figsize = (12, 7))\n",
    "sns.countplot(y = purchase_data['PREMIUM_CUSTOMER'], order = purchase_data['PREMIUM_CUSTOMER'].value_counts().index)\n",
    "plt.xlabel('Number of Customers')\n",
    "plt.ylabel('Premium Customer');"
   ]
  },
  {
   "cell_type": "code",
   "execution_count": 48,
   "id": "01d4ac56",
   "metadata": {},
   "outputs": [
    {
     "data": {
      "text/html": [
       "<div>\n",
       "<style scoped>\n",
       "    .dataframe tbody tr th:only-of-type {\n",
       "        vertical-align: middle;\n",
       "    }\n",
       "\n",
       "    .dataframe tbody tr th {\n",
       "        vertical-align: top;\n",
       "    }\n",
       "\n",
       "    .dataframe thead th {\n",
       "        text-align: right;\n",
       "    }\n",
       "</style>\n",
       "<table border=\"1\" class=\"dataframe\">\n",
       "  <thead>\n",
       "    <tr style=\"text-align: right;\">\n",
       "      <th></th>\n",
       "      <th>STORE_NBR</th>\n",
       "      <th>LYLTY_CARD_NBR</th>\n",
       "      <th>TXN_ID</th>\n",
       "      <th>PROD_NBR</th>\n",
       "      <th>PROD_NAME</th>\n",
       "      <th>PROD_QTY</th>\n",
       "      <th>TOT_SALES</th>\n",
       "      <th>PACK_SIZE</th>\n",
       "      <th>BRAND</th>\n",
       "      <th>LIFESTAGE</th>\n",
       "      <th>PREMIUM_CUSTOMER</th>\n",
       "    </tr>\n",
       "    <tr>\n",
       "      <th>DATE</th>\n",
       "      <th></th>\n",
       "      <th></th>\n",
       "      <th></th>\n",
       "      <th></th>\n",
       "      <th></th>\n",
       "      <th></th>\n",
       "      <th></th>\n",
       "      <th></th>\n",
       "      <th></th>\n",
       "      <th></th>\n",
       "      <th></th>\n",
       "    </tr>\n",
       "  </thead>\n",
       "  <tbody>\n",
       "    <tr>\n",
       "      <th>2018-07-01</th>\n",
       "      <td>39</td>\n",
       "      <td>39077</td>\n",
       "      <td>35094</td>\n",
       "      <td>104</td>\n",
       "      <td>Infuzions Thai Sweetchili Potatomix</td>\n",
       "      <td>2</td>\n",
       "      <td>7.6</td>\n",
       "      <td>110</td>\n",
       "      <td>Infuzions</td>\n",
       "      <td>MIDAGE SINGLES/COUPLES</td>\n",
       "      <td>Premium</td>\n",
       "    </tr>\n",
       "    <tr>\n",
       "      <th>2018-07-01</th>\n",
       "      <td>80</td>\n",
       "      <td>80003</td>\n",
       "      <td>78303</td>\n",
       "      <td>99</td>\n",
       "      <td>Pringles Sthrn Friedchicken</td>\n",
       "      <td>2</td>\n",
       "      <td>7.4</td>\n",
       "      <td>134</td>\n",
       "      <td>Pringles</td>\n",
       "      <td>RETIREES</td>\n",
       "      <td>Mainstream</td>\n",
       "    </tr>\n",
       "    <tr>\n",
       "      <th>2018-07-01</th>\n",
       "      <td>93</td>\n",
       "      <td>93176</td>\n",
       "      <td>91792</td>\n",
       "      <td>27</td>\n",
       "      <td>Ww Supreme Cheese   Corn Chips</td>\n",
       "      <td>2</td>\n",
       "      <td>3.8</td>\n",
       "      <td>200</td>\n",
       "      <td>Woolworths</td>\n",
       "      <td>OLDER FAMILIES</td>\n",
       "      <td>Mainstream</td>\n",
       "    </tr>\n",
       "    <tr>\n",
       "      <th>2018-07-01</th>\n",
       "      <td>125</td>\n",
       "      <td>125227</td>\n",
       "      <td>129193</td>\n",
       "      <td>4</td>\n",
       "      <td>Dorito Corn Chp     Supreme</td>\n",
       "      <td>2</td>\n",
       "      <td>13.0</td>\n",
       "      <td>380</td>\n",
       "      <td>Doritos</td>\n",
       "      <td>YOUNG SINGLES/COUPLES</td>\n",
       "      <td>Premium</td>\n",
       "    </tr>\n",
       "    <tr>\n",
       "      <th>2018-07-01</th>\n",
       "      <td>147</td>\n",
       "      <td>147123</td>\n",
       "      <td>146450</td>\n",
       "      <td>27</td>\n",
       "      <td>Ww Supreme Cheese   Corn Chips</td>\n",
       "      <td>2</td>\n",
       "      <td>3.8</td>\n",
       "      <td>200</td>\n",
       "      <td>Woolworths</td>\n",
       "      <td>YOUNG FAMILIES</td>\n",
       "      <td>Mainstream</td>\n",
       "    </tr>\n",
       "    <tr>\n",
       "      <th>...</th>\n",
       "      <td>...</td>\n",
       "      <td>...</td>\n",
       "      <td>...</td>\n",
       "      <td>...</td>\n",
       "      <td>...</td>\n",
       "      <td>...</td>\n",
       "      <td>...</td>\n",
       "      <td>...</td>\n",
       "      <td>...</td>\n",
       "      <td>...</td>\n",
       "      <td>...</td>\n",
       "    </tr>\n",
       "    <tr>\n",
       "      <th>2019-06-30</th>\n",
       "      <td>100</td>\n",
       "      <td>100190</td>\n",
       "      <td>99666</td>\n",
       "      <td>10</td>\n",
       "      <td>Rrd Sr Slow Rst     Pork Belly</td>\n",
       "      <td>2</td>\n",
       "      <td>5.4</td>\n",
       "      <td>150</td>\n",
       "      <td>Red Rock Deli</td>\n",
       "      <td>OLDER FAMILIES</td>\n",
       "      <td>Mainstream</td>\n",
       "    </tr>\n",
       "    <tr>\n",
       "      <th>2019-06-30</th>\n",
       "      <td>230</td>\n",
       "      <td>230102</td>\n",
       "      <td>232603</td>\n",
       "      <td>52</td>\n",
       "      <td>Grain Waves Sour    Cream Chives</td>\n",
       "      <td>2</td>\n",
       "      <td>7.2</td>\n",
       "      <td>210</td>\n",
       "      <td>Grainwaves</td>\n",
       "      <td>OLDER SINGLES/COUPLES</td>\n",
       "      <td>Premium</td>\n",
       "    </tr>\n",
       "    <tr>\n",
       "      <th>2019-06-30</th>\n",
       "      <td>58</td>\n",
       "      <td>58097</td>\n",
       "      <td>53258</td>\n",
       "      <td>16</td>\n",
       "      <td>Smiths Crinkle Chips Salt   Vinegar</td>\n",
       "      <td>2</td>\n",
       "      <td>11.4</td>\n",
       "      <td>330</td>\n",
       "      <td>Smiths</td>\n",
       "      <td>YOUNG SINGLES/COUPLES</td>\n",
       "      <td>Mainstream</td>\n",
       "    </tr>\n",
       "    <tr>\n",
       "      <th>2019-06-30</th>\n",
       "      <td>174</td>\n",
       "      <td>174108</td>\n",
       "      <td>175125</td>\n",
       "      <td>93</td>\n",
       "      <td>Doritos Corn Chip Southern Chicken</td>\n",
       "      <td>2</td>\n",
       "      <td>7.8</td>\n",
       "      <td>150</td>\n",
       "      <td>Doritos</td>\n",
       "      <td>YOUNG FAMILIES</td>\n",
       "      <td>Budget</td>\n",
       "    </tr>\n",
       "    <tr>\n",
       "      <th>2019-06-30</th>\n",
       "      <td>165</td>\n",
       "      <td>165031</td>\n",
       "      <td>165555</td>\n",
       "      <td>109</td>\n",
       "      <td>Pringles Barbeque</td>\n",
       "      <td>2</td>\n",
       "      <td>7.4</td>\n",
       "      <td>134</td>\n",
       "      <td>Pringles</td>\n",
       "      <td>MIDAGE SINGLES/COUPLES</td>\n",
       "      <td>Mainstream</td>\n",
       "    </tr>\n",
       "  </tbody>\n",
       "</table>\n",
       "<p>246740 rows × 11 columns</p>\n",
       "</div>"
      ],
      "text/plain": [
       "            STORE_NBR  LYLTY_CARD_NBR  TXN_ID  PROD_NBR  \\\n",
       "DATE                                                      \n",
       "2018-07-01         39           39077   35094       104   \n",
       "2018-07-01         80           80003   78303        99   \n",
       "2018-07-01         93           93176   91792        27   \n",
       "2018-07-01        125          125227  129193         4   \n",
       "2018-07-01        147          147123  146450        27   \n",
       "...               ...             ...     ...       ...   \n",
       "2019-06-30        100          100190   99666        10   \n",
       "2019-06-30        230          230102  232603        52   \n",
       "2019-06-30         58           58097   53258        16   \n",
       "2019-06-30        174          174108  175125        93   \n",
       "2019-06-30        165          165031  165555       109   \n",
       "\n",
       "                                        PROD_NAME  PROD_QTY  TOT_SALES  \\\n",
       "DATE                                                                     \n",
       "2018-07-01  Infuzions Thai Sweetchili Potatomix           2        7.6   \n",
       "2018-07-01          Pringles Sthrn Friedchicken           2        7.4   \n",
       "2018-07-01       Ww Supreme Cheese   Corn Chips           2        3.8   \n",
       "2018-07-01          Dorito Corn Chp     Supreme           2       13.0   \n",
       "2018-07-01       Ww Supreme Cheese   Corn Chips           2        3.8   \n",
       "...                                           ...       ...        ...   \n",
       "2019-06-30       Rrd Sr Slow Rst     Pork Belly           2        5.4   \n",
       "2019-06-30     Grain Waves Sour    Cream Chives           2        7.2   \n",
       "2019-06-30  Smiths Crinkle Chips Salt   Vinegar           2       11.4   \n",
       "2019-06-30   Doritos Corn Chip Southern Chicken           2        7.8   \n",
       "2019-06-30                  Pringles Barbeque             2        7.4   \n",
       "\n",
       "            PACK_SIZE          BRAND               LIFESTAGE PREMIUM_CUSTOMER  \n",
       "DATE                                                                           \n",
       "2018-07-01        110      Infuzions  MIDAGE SINGLES/COUPLES          Premium  \n",
       "2018-07-01        134       Pringles                RETIREES       Mainstream  \n",
       "2018-07-01        200     Woolworths          OLDER FAMILIES       Mainstream  \n",
       "2018-07-01        380        Doritos   YOUNG SINGLES/COUPLES          Premium  \n",
       "2018-07-01        200     Woolworths          YOUNG FAMILIES       Mainstream  \n",
       "...               ...            ...                     ...              ...  \n",
       "2019-06-30        150  Red Rock Deli          OLDER FAMILIES       Mainstream  \n",
       "2019-06-30        210     Grainwaves   OLDER SINGLES/COUPLES          Premium  \n",
       "2019-06-30        330         Smiths   YOUNG SINGLES/COUPLES       Mainstream  \n",
       "2019-06-30        150        Doritos          YOUNG FAMILIES           Budget  \n",
       "2019-06-30        134       Pringles  MIDAGE SINGLES/COUPLES       Mainstream  \n",
       "\n",
       "[246740 rows x 11 columns]"
      ]
     },
     "execution_count": 48,
     "metadata": {},
     "output_type": "execute_result"
    }
   ],
   "source": [
    "# Merge transaction_data and purchase_data together\n",
    "df = pd.merge(transaction_data, purchase_data)\n",
    "df = df.set_index(\"DATE\").sort_index()\n",
    "df"
   ]
  },
  {
   "cell_type": "code",
   "execution_count": null,
   "id": "b5585b76",
   "metadata": {},
   "outputs": [],
   "source": [
    "df.to_csv(\"data.csv\")"
   ]
  },
  {
   "cell_type": "code",
   "execution_count": 49,
   "id": "e8fe8e9b",
   "metadata": {},
   "outputs": [
    {
     "data": {
      "text/plain": [
       "STORE_NBR           0\n",
       "LYLTY_CARD_NBR      0\n",
       "TXN_ID              0\n",
       "PROD_NBR            0\n",
       "PROD_NAME           0\n",
       "PROD_QTY            0\n",
       "TOT_SALES           0\n",
       "PACK_SIZE           0\n",
       "BRAND               0\n",
       "LIFESTAGE           0\n",
       "PREMIUM_CUSTOMER    0\n",
       "dtype: int64"
      ]
     },
     "execution_count": 49,
     "metadata": {},
     "output_type": "execute_result"
    }
   ],
   "source": [
    "# Check for null values\n",
    "df.isnull().sum()"
   ]
  },
  {
   "cell_type": "code",
   "execution_count": 50,
   "id": "22e33c61",
   "metadata": {},
   "outputs": [
    {
     "data": {
      "text/plain": [
       "LIFESTAGE               PREMIUM_CUSTOMER\n",
       "OLDER FAMILIES          Budget              312310.65\n",
       "YOUNG SINGLES/COUPLES   Mainstream          285417.80\n",
       "RETIREES                Mainstream          283836.55\n",
       "YOUNG FAMILIES          Budget              257930.65\n",
       "OLDER SINGLES/COUPLES   Budget              252142.90\n",
       "                        Mainstream          245820.40\n",
       "                        Premium             243783.75\n",
       "RETIREES                Budget              207732.80\n",
       "OLDER FAMILIES          Mainstream          192301.25\n",
       "RETIREES                Premium             179405.35\n",
       "YOUNG FAMILIES          Mainstream          171925.55\n",
       "MIDAGE SINGLES/COUPLES  Mainstream          167018.35\n",
       "YOUNG FAMILIES          Premium             156075.60\n",
       "OLDER FAMILIES          Premium             150054.30\n",
       "YOUNG SINGLES/COUPLES   Budget              109479.90\n",
       "MIDAGE SINGLES/COUPLES  Premium             106859.85\n",
       "YOUNG SINGLES/COUPLES   Premium              74734.90\n",
       "MIDAGE SINGLES/COUPLES  Budget               65511.60\n",
       "NEW FAMILIES            Budget               39895.65\n",
       "                        Mainstream           30986.10\n",
       "                        Premium              20840.60\n",
       "Name: SALES, dtype: float64"
      ]
     },
     "execution_count": 50,
     "metadata": {},
     "output_type": "execute_result"
    }
   ],
   "source": [
    "# Who spends the most on chips, describing customers by lifestage and how premium their general purchasing behaviour is:\n",
    "df['SALES'] = df['PROD_QTY'] * df['TOT_SALES']\n",
    "df.groupby(['LIFESTAGE', 'PREMIUM_CUSTOMER'])['SALES'].sum().sort_values(ascending=False)"
   ]
  },
  {
   "cell_type": "code",
   "execution_count": 51,
   "id": "658f4c62",
   "metadata": {},
   "outputs": [
    {
     "data": {
      "image/png": "[encoded data removed]",
      "text/plain": [
       "<Figure size 1200x600 with 1 Axes>"
      ]
     },
     "metadata": {},
     "output_type": "display_data"
    }
   ],
   "source": [
    "df['SALES'] = df['PROD_QTY'] * df['TOT_SALES']\n",
    "sales_by_lifestage_premium = df.groupby(['LIFESTAGE', 'PREMIUM_CUSTOMER'])['SALES'].sum().sort_values(ascending=False).reset_index()\n",
    "plt.figure(figsize=(12, 6))\n",
    "sns.barplot(x='LIFESTAGE', y='SALES', hue='PREMIUM_CUSTOMER', data=sales_by_lifestage_premium)\n",
    "plt.title('Total Sales by Lifestage and Premium Customer')\n",
    "plt.xticks(rotation=90)\n",
    "plt.show()"
   ]
  },
  {
   "cell_type": "code",
   "execution_count": 52,
   "id": "6f027e2a",
   "metadata": {},
   "outputs": [
    {
     "data": {
      "text/plain": [
       "LIFESTAGE               PREMIUM_CUSTOMER\n",
       "MIDAGE SINGLES/COUPLES  Budget              1474\n",
       "                        Mainstream          3298\n",
       "                        Premium             2369\n",
       "NEW FAMILIES            Budget              1087\n",
       "                        Mainstream           830\n",
       "                        Premium              575\n",
       "OLDER FAMILIES          Budget              4611\n",
       "                        Mainstream          2788\n",
       "                        Premium             2231\n",
       "OLDER SINGLES/COUPLES   Budget              4849\n",
       "                        Mainstream          4858\n",
       "                        Premium             4682\n",
       "RETIREES                Budget              4385\n",
       "                        Mainstream          6358\n",
       "                        Premium             3812\n",
       "YOUNG FAMILIES          Budget              3953\n",
       "                        Mainstream          2685\n",
       "                        Premium             2398\n",
       "YOUNG SINGLES/COUPLES   Budget              3647\n",
       "                        Mainstream          7917\n",
       "                        Premium             2480\n",
       "Name: LYLTY_CARD_NBR, dtype: int64"
      ]
     },
     "execution_count": 52,
     "metadata": {},
     "output_type": "execute_result"
    }
   ],
   "source": [
    "# How many customers are in each segment:\n",
    "df.groupby(['LIFESTAGE', 'PREMIUM_CUSTOMER'])['LYLTY_CARD_NBR'].nunique()"
   ]
  },
  {
   "cell_type": "code",
   "execution_count": 53,
   "id": "3f71b3a0",
   "metadata": {},
   "outputs": [
    {
     "data": {
      "image/png": "[encoded data removed]",
      "text/plain": [
       "<Figure size 1200x600 with 1 Axes>"
      ]
     },
     "metadata": {},
     "output_type": "display_data"
    }
   ],
   "source": [
    "customers_by_lifestage_premium = df.groupby(['LIFESTAGE', 'PREMIUM_CUSTOMER'])['LYLTY_CARD_NBR'].nunique().reset_index()\n",
    "plt.figure(figsize=(12, 6))\n",
    "sns.barplot(x='LIFESTAGE', y='LYLTY_CARD_NBR', hue='PREMIUM_CUSTOMER', data=customers_by_lifestage_premium)\n",
    "plt.title('Number of Customers by Lifestage and Premium Customer')\n",
    "plt.xticks(rotation=90)\n",
    "plt.show()"
   ]
  },
  {
   "cell_type": "code",
   "execution_count": 54,
   "id": "d9a4ee88",
   "metadata": {},
   "outputs": [
    {
     "data": {
      "text/plain": [
       "LIFESTAGE               PREMIUM_CUSTOMER\n",
       "MIDAGE SINGLES/COUPLES  Budget              6.026459\n",
       "                        Mainstream          6.432080\n",
       "                        Premium             6.078514\n",
       "NEW FAMILIES            Budget              4.821527\n",
       "                        Mainstream          4.891566\n",
       "                        Premium             4.815652\n",
       "OLDER FAMILIES          Budget              9.076773\n",
       "                        Mainstream          9.255380\n",
       "                        Premium             9.071717\n",
       "OLDER SINGLES/COUPLES   Budget              6.781398\n",
       "                        Mainstream          6.712021\n",
       "                        Premium             6.769543\n",
       "RETIREES                Budget              6.141847\n",
       "                        Mainstream          5.925920\n",
       "                        Premium             6.103358\n",
       "YOUNG FAMILIES          Budget              8.722995\n",
       "                        Mainstream          8.638361\n",
       "                        Premium             8.716013\n",
       "YOUNG SINGLES/COUPLES   Budget              4.250069\n",
       "                        Mainstream          4.575597\n",
       "                        Premium             4.264113\n",
       "dtype: float64"
      ]
     },
     "execution_count": 54,
     "metadata": {},
     "output_type": "execute_result"
    }
   ],
   "source": [
    "#How many chips are bought per customer by segment:\n",
    "df.groupby(['LIFESTAGE', 'PREMIUM_CUSTOMER'])['PROD_QTY'].sum() /df.groupby(\n",
    "    ['LIFESTAGE', 'PREMIUM_CUSTOMER'])['LYLTY_CARD_NBR'].nunique()"
   ]
  },
  {
   "cell_type": "code",
   "execution_count": 55,
   "id": "9b8d0bba",
   "metadata": {},
   "outputs": [
    {
     "data": {
      "image/png": "[encoded data removed]",
      "text/plain": [
       "<Figure size 1200x600 with 1 Axes>"
      ]
     },
     "metadata": {},
     "output_type": "display_data"
    }
   ],
   "source": [
    "chips_per_customer_by_lifestage_premium = df.groupby(['LIFESTAGE', 'PREMIUM_CUSTOMER'])['PROD_QTY'].sum() / df.groupby(['LIFESTAGE', 'PREMIUM_CUSTOMER'])['LYLTY_CARD_NBR'].nunique()\n",
    "chips_per_customer_by_lifestage_premium = chips_per_customer_by_lifestage_premium.reset_index(name='CHIPS_PER_CUSTOMER')\n",
    "plt.figure(figsize=(12, 6))\n",
    "sns.barplot(x='LIFESTAGE', y='CHIPS_PER_CUSTOMER', hue='PREMIUM_CUSTOMER', data=chips_per_customer_by_lifestage_premium)\n",
    "plt.title('Chips per Customer by Lifestage and Premium Customer')\n",
    "plt.xticks(rotation=90)\n",
    "plt.show()"
   ]
  },
  {
   "cell_type": "code",
   "execution_count": 56,
   "id": "7265855d",
   "metadata": {},
   "outputs": [
    {
     "data": {
      "text/plain": [
       "LIFESTAGE               PREMIUM_CUSTOMER\n",
       "MIDAGE SINGLES/COUPLES  Budget              0.000800\n",
       "                        Mainstream          0.000360\n",
       "                        Premium             0.000497\n",
       "NEW FAMILIES            Budget              0.001392\n",
       "                        Mainstream          0.001801\n",
       "                        Premium             0.002612\n",
       "OLDER FAMILIES          Budget              0.000174\n",
       "                        Mainstream          0.000282\n",
       "                        Premium             0.000357\n",
       "OLDER SINGLES/COUPLES   Budget              0.000226\n",
       "                        Mainstream          0.000224\n",
       "                        Premium             0.000235\n",
       "RETIREES                Budget              0.000276\n",
       "                        Mainstream          0.000193\n",
       "                        Premium             0.000321\n",
       "YOUNG FAMILIES          Budget              0.000212\n",
       "                        Mainstream          0.000312\n",
       "                        Premium             0.000349\n",
       "YOUNG SINGLES/COUPLES   Budget              0.000430\n",
       "                        Mainstream          0.000208\n",
       "                        Premium             0.000631\n",
       "dtype: float64"
      ]
     },
     "execution_count": 56,
     "metadata": {},
     "output_type": "execute_result"
    }
   ],
   "source": [
    "# What is the average chip price by customer segment:\n",
    "df.groupby(['LIFESTAGE', 'PREMIUM_CUSTOMER'])['TOT_SALES'].mean() / df.groupby([\n",
    "    'LIFESTAGE', 'PREMIUM_CUSTOMER'])['PROD_QTY'].sum()"
   ]
  },
  {
   "cell_type": "code",
   "execution_count": 57,
   "id": "a6cc7471",
   "metadata": {},
   "outputs": [
    {
     "data": {
      "image/png": "[encoded data removed]",
      "text/plain": [
       "<Figure size 1200x600 with 1 Axes>"
      ]
     },
     "metadata": {},
     "output_type": "display_data"
    }
   ],
   "source": [
    "avg_chip_price_by_lifestage_premium = df.groupby(['LIFESTAGE', 'PREMIUM_CUSTOMER'])['TOT_SALES'].mean() / df.groupby(['LIFESTAGE', 'PREMIUM_CUSTOMER'])['PROD_QTY'].sum()\n",
    "avg_chip_price_by_lifestage_premium = avg_chip_price_by_lifestage_premium.reset_index(name='AVG_CHIP_PRICE')\n",
    "plt.figure(figsize=(12, 6))\n",
    "sns.barplot(x='LIFESTAGE', y='AVG_CHIP_PRICE', hue='PREMIUM_CUSTOMER', data=avg_chip_price_by_lifestage_premium)\n",
    "plt.title('Average Chip Price by Lifestage and Premium Customer')\n",
    "plt.xticks(rotation=90)\n",
    "plt.show()"
   ]
  },
  {
   "cell_type": "markdown",
   "id": "33279213",
   "metadata": {},
   "source": [
    "Summary of the findings:\n",
    "- Mainstream young singles/couples are the largest customer segment in terms of total sales.\n",
    "- Mainstream, young singles/couples are also the largest customer segment in terms of population.\n",
    "- Budget - older families have the highest average price per packet of chips and spend more on chips than their premium counterparts.\n",
    "- Mainstream - young singles/couples have the highest average number of chips bought per customer.\n",
    "- Mainstream - retirees have the lowest average number of chips bought per customer and also spend the least on chips.\n",
    "- Chips with a price point of 2.6 dollars have the highest sales across all customer segments."
   ]
  }
 ],
 "metadata": {
  "kernelspec": {
   "display_name": "Python 3 (ipykernel)",
   "language": "python",
   "name": "python3"
  },
  "language_info": {
   "codemirror_mode": {
    "name": "ipython",
    "version": 3
   },
   "file_extension": ".py",
   "mimetype": "text/x-python",
   "name": "python",
   "nbconvert_exporter": "python",
   "pygments_lexer": "ipython3",
   "version": "3.10.9"
  }
 },
 "nbformat": 4,
 "nbformat_minor": 5
}
